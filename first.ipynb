{
 "cells": [
  {
   "cell_type": "code",
   "execution_count": 16,
   "metadata": {},
   "outputs": [],
   "source": [
    "from transformers import pipeline\n",
    "from transformers import AutoModelForCausalLM, AutoTokenizer"
   ]
  },
  {
   "cell_type": "code",
   "execution_count": 20,
   "metadata": {},
   "outputs": [],
   "source": [
    "model = AutoModelForCausalLM.from_pretrained(\"gpt2\")"
   ]
  },
  {
   "cell_type": "code",
   "execution_count": 8,
   "metadata": {},
   "outputs": [
    {
     "data": {
      "application/vnd.jupyter.widget-view+json": {
       "model_id": "506504b6eee74c3e9caa379b6abd82ec",
       "version_major": 2,
       "version_minor": 0
      },
      "text/plain": [
       "model.safetensors:   0%|          | 0.00/548M [00:00<?, ?B/s]"
      ]
     },
     "metadata": {},
     "output_type": "display_data"
    },
    {
     "data": {
      "application/vnd.jupyter.widget-view+json": {
       "model_id": "a3d1172b777349208de751e0f52f5384",
       "version_major": 2,
       "version_minor": 0
      },
      "text/plain": [
       "generation_config.json:   0%|          | 0.00/124 [00:00<?, ?B/s]"
      ]
     },
     "metadata": {},
     "output_type": "display_data"
    },
    {
     "data": {
      "application/vnd.jupyter.widget-view+json": {
       "model_id": "ea8fef1fa147422d9aa945bb5a1d4322",
       "version_major": 2,
       "version_minor": 0
      },
      "text/plain": [
       "tokenizer_config.json:   0%|          | 0.00/26.0 [00:00<?, ?B/s]"
      ]
     },
     "metadata": {},
     "output_type": "display_data"
    },
    {
     "data": {
      "application/vnd.jupyter.widget-view+json": {
       "model_id": "b79f89293d7f4934afcde562eeecfcd4",
       "version_major": 2,
       "version_minor": 0
      },
      "text/plain": [
       "vocab.json:   0%|          | 0.00/1.04M [00:00<?, ?B/s]"
      ]
     },
     "metadata": {},
     "output_type": "display_data"
    },
    {
     "data": {
      "application/vnd.jupyter.widget-view+json": {
       "model_id": "3026c6294d664f7d89d34179ff859b47",
       "version_major": 2,
       "version_minor": 0
      },
      "text/plain": [
       "merges.txt:   0%|          | 0.00/456k [00:00<?, ?B/s]"
      ]
     },
     "metadata": {},
     "output_type": "display_data"
    },
    {
     "data": {
      "application/vnd.jupyter.widget-view+json": {
       "model_id": "159a08251c2046bf802589cb8a3f1b8a",
       "version_major": 2,
       "version_minor": 0
      },
      "text/plain": [
       "tokenizer.json:   0%|          | 0.00/1.36M [00:00<?, ?B/s]"
      ]
     },
     "metadata": {},
     "output_type": "display_data"
    },
    {
     "name": "stderr",
     "output_type": "stream",
     "text": [
      "Device set to use cpu\n"
     ]
    }
   ],
   "source": [
    "model = pipeline(\"text-generation\", model='gpt2', framework='pt')\n"
   ]
  },
  {
   "cell_type": "code",
   "execution_count": 10,
   "metadata": {},
   "outputs": [
    {
     "name": "stderr",
     "output_type": "stream",
     "text": [
      "Setting `pad_token_id` to `eos_token_id`:50256 for open-end generation.\n"
     ]
    },
    {
     "name": "stdout",
     "output_type": "stream",
     "text": [
      "[{'generated_text': 'Hello ! Here we have all the content of \"Tropic Thunder\" — our big new song, from the original songs that appeared on your first album, \"No Longer, Forever, Forever,\" released earlier this year!'}]\n"
     ]
    }
   ],
   "source": [
    "output = model(\"Hello !\", max_length=50)\n",
    "print(output)"
   ]
  },
  {
   "cell_type": "code",
   "execution_count": 13,
   "metadata": {},
   "outputs": [
    {
     "name": "stderr",
     "output_type": "stream",
     "text": [
      "Setting `pad_token_id` to `eos_token_id`:50256 for open-end generation.\n"
     ]
    },
    {
     "name": "stdout",
     "output_type": "stream",
     "text": [
      "[{'generated_text': 'explain pytorch and to create an environment variable that will store it in a directory called pytorch.\\n\\nYou get an entry in all the files in your directory named pytorch1 which should contain all of your files at your destination. The pytorch.conf file contains a set of information about your settings and which files were generated. The pytorch.files file contains details about your Python versions, version dependencies, and your source files and libraries.\\n\\nTo get started with your first pytorch installation using the pip:\\n\\npip install. pip install pytorch\\n\\nIf you run pip install after these commands, pytorch will install all of your PyTorch versions as well as all of your pytorch.conf files with its default values.\\n\\nYou can have more than one setup using the setup_pytorch file. This file has the following properties to help you setup pytorch for each version of pytorch.py\\n\\nYou will need to add one or more directories to the main directory and their names to the end of a comma-separated list of \\'pytorch_setup\\'.\\n\\nFor all the pytorch.conf\\'s you are needed to add an item to every pytorch.conf from the main directory. In the first version, it\\'s called pytorch.py, which is the Python version of pytorch available with any version more recent than 3.9. You will need to change your path in all the configuration files as well as the file-name.py and file.py directories to include the following information from each file.\\n\\nThe file path must be a colon and must contain at least one file name. Only the name must be empty, or contain the string \"pytorch.py.\" or the Python version that is supported by the server.\\n\\nExample:\\n\\npython3 pytorch.py\\n\\nThe files pytorch2.py and pytorch3 have the following properties: File name: A string that can be used to start a Python app that loads the pytorch-version for you from somewhere else. In most cases this means you only see the text in the third line.\\n\\nStart time: An integer value that must be 0 at a time. The number does not have to be absolute. For example, if this is 1 line, then the app should run after 1 time.\\n\\nUsage: A string that describes a system function using the given name. This is used to set permissions for the functions within the program. The option is left blank or is replaced by a short empty string. The value is a tuple with the text \"pytorch_setup\". For example, if this is true, it will provide this functionality as well. If it is false, then the program might not start and it may wait for a command prompt to run. You can use any of your pytorch.conf values to control what is available and how you can tell which option is selected.\\n\\nNote: If you don\\'t specify a start/stop time the script will be aborted without reading the end of the second and will start even after the 1st line of the second.\\n\\nExample:\\n\\npytorch.py\\n\\nThe files pytorch1.py and pytorch3.py may contain the following properties: File name: The directory to download the files. This name is used as the number when creating the pytorch-version file.\\n\\nStart time: A string which must be 0 at a time. This must be in hex characters: (e.g., 10 characters).\\n\\nUsage: A string that describes a system function, function that accepts arguments, an array of names and a list of time-fields. This string is called a timefield. The values can be any file, a program, an application, and anything else. The line ending with the Python module name has to be a line length from 0 to 1000 characters without trailing spaces. The value must not be a list with all values. If the string is a list with two or more values, the line length hasto be 0 at a time. An empty line after the string should take a value which matches the line length.\\n\\nExample:\\n\\npython3 pytorch.py\\n\\nThe files pytorch2.py and pytorch3.py may contain the following properties: File name: An integer value that must be 0 at a time. The number does not have to be absolute. For example, if this is 1 line, then the app should run after 1 time.\\n\\nStart time: An integer value that must be 0 at a time. The number does not have to be absolute. For example, if this is... or not a char, then'}]\n"
     ]
    }
   ],
   "source": [
    "print(model(\"explain pytorch\", max_length=300))"
   ]
  },
  {
   "cell_type": "code",
   "execution_count": null,
   "metadata": {},
   "outputs": [],
   "source": []
  }
 ],
 "metadata": {
  "kernelspec": {
   "display_name": "Python 3",
   "language": "python",
   "name": "python3"
  },
  "language_info": {
   "codemirror_mode": {
    "name": "ipython",
    "version": 3
   },
   "file_extension": ".py",
   "mimetype": "text/x-python",
   "name": "python",
   "nbconvert_exporter": "python",
   "pygments_lexer": "ipython3",
   "version": "3.12.4"
  }
 },
 "nbformat": 4,
 "nbformat_minor": 2
}
