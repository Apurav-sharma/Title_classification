{
 "cells": [
  {
   "cell_type": "code",
   "execution_count": 1,
   "metadata": {},
   "outputs": [],
   "source": [
    "import torch\n",
    "from torch.utils.data import Dataset, DataLoader\n",
    "import torchvision\n",
    "import numpy as np\n",
    "import math"
   ]
  },
  {
   "cell_type": "code",
   "execution_count": 2,
   "metadata": {},
   "outputs": [],
   "source": [
    "class WineDataset(Dataset):\n",
    "    def __init__(self, transform = None):\n",
    "        df = np.loadtxt(\"wine.csv\", delimiter=\",\", dtype=np.float32, skiprows=1)\n",
    "        print(df.shape)\n",
    "        self.n_samples = df.shape[0]\n",
    "        self.x = df[:, 1:]\n",
    "        self.y = df[:, [0]]\n",
    "\n",
    "        self.transform = transform\n",
    "    \n",
    "    def __getitem__(self, index):\n",
    "        sample = self.x[index], self.y[index]\n",
    "        if(self.transform):\n",
    "            sample = self.transform(sample)\n",
    "        \n",
    "        return sample\n",
    "    \n",
    "    def __len__(self):\n",
    "        return self.n_samples\n"
   ]
  },
  {
   "cell_type": "code",
   "execution_count": 7,
   "metadata": {},
   "outputs": [
    {
     "name": "stdout",
     "output_type": "stream",
     "text": [
      "(178, 14)\n"
     ]
    }
   ],
   "source": [
    "class Totensor:\n",
    "    def __call__(self, sample):\n",
    "        inputs, labels = sample\n",
    "        inputs = torch.from_numpy(inputs)\n",
    "        labels = torch.from_numpy(labels)\n",
    "\n",
    "        return inputs, labels\n",
    "\n",
    "\n",
    "df = WineDataset(transform=Totensor())"
   ]
  },
  {
   "cell_type": "code",
   "execution_count": 8,
   "metadata": {},
   "outputs": [
    {
     "name": "stdout",
     "output_type": "stream",
     "text": [
      "(178, 13) (178, 1)\n",
      "(tensor([1.4230e+01, 1.7100e+00, 2.4300e+00, 1.5600e+01, 1.2700e+02, 2.8000e+00,\n",
      "        3.0600e+00, 2.8000e-01, 2.2900e+00, 5.6400e+00, 1.0400e+00, 3.9200e+00,\n",
      "        1.0650e+03]), tensor([1.]))\n"
     ]
    }
   ],
   "source": [
    "print(df.x.shape, df.y.shape)\n",
    "print(df[0])"
   ]
  },
  {
   "cell_type": "code",
   "execution_count": 9,
   "metadata": {},
   "outputs": [
    {
     "name": "stdout",
     "output_type": "stream",
     "text": [
      "(tensor([1.4230e+01, 1.7100e+00, 2.4300e+00, 1.5600e+01, 1.2700e+02, 2.8000e+00,\n",
      "        3.0600e+00, 2.8000e-01, 2.2900e+00, 5.6400e+00, 1.0400e+00, 3.9200e+00,\n",
      "        1.0650e+03]), tensor([1.]))\n"
     ]
    }
   ],
   "source": [
    "print(df[0])"
   ]
  },
  {
   "cell_type": "code",
   "execution_count": 10,
   "metadata": {},
   "outputs": [
    {
     "name": "stdout",
     "output_type": "stream",
     "text": [
      "<torch.utils.data.dataloader.DataLoader object at 0x00000289DD02F440>\n",
      "<torch.utils.data.dataloader._SingleProcessDataLoaderIter object at 0x00000289DCF2AF60>\n",
      "[tensor([[1.2820e+01, 3.3700e+00, 2.3000e+00, 1.9500e+01, 8.8000e+01, 1.4800e+00,\n",
      "         6.6000e-01, 4.0000e-01, 9.7000e-01, 1.0260e+01, 7.2000e-01, 1.7500e+00,\n",
      "         6.8500e+02],\n",
      "        [1.2530e+01, 5.5100e+00, 2.6400e+00, 2.5000e+01, 9.6000e+01, 1.7900e+00,\n",
      "         6.0000e-01, 6.3000e-01, 1.1000e+00, 5.0000e+00, 8.2000e-01, 1.6900e+00,\n",
      "         5.1500e+02],\n",
      "        [1.2520e+01, 2.4300e+00, 2.1700e+00, 2.1000e+01, 8.8000e+01, 2.5500e+00,\n",
      "         2.2700e+00, 2.6000e-01, 1.2200e+00, 2.0000e+00, 9.0000e-01, 2.7800e+00,\n",
      "         3.2500e+02],\n",
      "        [1.3270e+01, 4.2800e+00, 2.2600e+00, 2.0000e+01, 1.2000e+02, 1.5900e+00,\n",
      "         6.9000e-01, 4.3000e-01, 1.3500e+00, 1.0200e+01, 5.9000e-01, 1.5600e+00,\n",
      "         8.3500e+02]]), tensor([[3.],\n",
      "        [3.],\n",
      "        [2.],\n",
      "        [3.]])]\n",
      "tensor([[1.2820e+01, 3.3700e+00, 2.3000e+00, 1.9500e+01, 8.8000e+01, 1.4800e+00,\n",
      "         6.6000e-01, 4.0000e-01, 9.7000e-01, 1.0260e+01, 7.2000e-01, 1.7500e+00,\n",
      "         6.8500e+02],\n",
      "        [1.2530e+01, 5.5100e+00, 2.6400e+00, 2.5000e+01, 9.6000e+01, 1.7900e+00,\n",
      "         6.0000e-01, 6.3000e-01, 1.1000e+00, 5.0000e+00, 8.2000e-01, 1.6900e+00,\n",
      "         5.1500e+02],\n",
      "        [1.2520e+01, 2.4300e+00, 2.1700e+00, 2.1000e+01, 8.8000e+01, 2.5500e+00,\n",
      "         2.2700e+00, 2.6000e-01, 1.2200e+00, 2.0000e+00, 9.0000e-01, 2.7800e+00,\n",
      "         3.2500e+02],\n",
      "        [1.3270e+01, 4.2800e+00, 2.2600e+00, 2.0000e+01, 1.2000e+02, 1.5900e+00,\n",
      "         6.9000e-01, 4.3000e-01, 1.3500e+00, 1.0200e+01, 5.9000e-01, 1.5600e+00,\n",
      "         8.3500e+02]]) tensor([[3.],\n",
      "        [3.],\n",
      "        [2.],\n",
      "        [3.]])\n"
     ]
    }
   ],
   "source": [
    "itr = 2\n",
    "sample = len(df)\n",
    "batch_size = math.ceil(sample / 4)\n",
    "\n",
    "\n",
    "train_loader = DataLoader(dataset=df, batch_size=4, shuffle=True)\n",
    "print(train_loader)\n",
    "\n",
    "dataiter = iter(train_loader)\n",
    "print(dataiter)\n",
    "data = next(dataiter)\n",
    "print(data)\n",
    "features, labels = data\n",
    "print(features, labels)"
   ]
  },
  {
   "cell_type": "code",
   "execution_count": 11,
   "metadata": {},
   "outputs": [
    {
     "name": "stdout",
     "output_type": "stream",
     "text": [
      "epoch: 5 / 45, \n",
      "epoch: 10 / 45, \n",
      "epoch: 15 / 45, \n",
      "epoch: 20 / 45, \n",
      "epoch: 25 / 45, \n",
      "epoch: 30 / 45, \n",
      "epoch: 35 / 45, \n",
      "epoch: 40 / 45, \n",
      "epoch: 45 / 45, \n",
      "epoch: 5 / 45, \n",
      "epoch: 10 / 45, \n",
      "epoch: 15 / 45, \n",
      "epoch: 20 / 45, \n",
      "epoch: 25 / 45, \n",
      "epoch: 30 / 45, \n",
      "epoch: 35 / 45, \n",
      "epoch: 40 / 45, \n",
      "epoch: 45 / 45, \n"
     ]
    }
   ],
   "source": [
    "for epoch in range(itr):\n",
    "    for i, (inputs, label) in enumerate(train_loader):\n",
    "\n",
    "        if (i + 1) % 5 == 0:\n",
    "            print(f\"epoch: {i + 1} / {batch_size}, \")"
   ]
  },
  {
   "cell_type": "code",
   "execution_count": null,
   "metadata": {},
   "outputs": [],
   "source": []
  }
 ],
 "metadata": {
  "kernelspec": {
   "display_name": "Python 3",
   "language": "python",
   "name": "python3"
  },
  "language_info": {
   "codemirror_mode": {
    "name": "ipython",
    "version": 3
   },
   "file_extension": ".py",
   "mimetype": "text/x-python",
   "name": "python",
   "nbconvert_exporter": "python",
   "pygments_lexer": "ipython3",
   "version": "3.12.4"
  }
 },
 "nbformat": 4,
 "nbformat_minor": 2
}
