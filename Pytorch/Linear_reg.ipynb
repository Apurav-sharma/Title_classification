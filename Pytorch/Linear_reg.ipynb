{
 "cells": [
  {
   "cell_type": "code",
   "execution_count": 1,
   "metadata": {},
   "outputs": [],
   "source": [
    "import torch \n",
    "import torch.nn as nn\n",
    "import numpy as np\n",
    "from sklearn import datasets\n",
    "import matplotlib.pyplot as plt"
   ]
  },
  {
   "cell_type": "code",
   "execution_count": 18,
   "metadata": {},
   "outputs": [
    {
     "name": "stdout",
     "output_type": "stream",
     "text": [
      "[[ 0.93128012]\n",
      " [ 0.08704707]\n",
      " [-1.05771093]\n",
      " [ 0.31424733]\n",
      " [-0.47917424]\n",
      " [ 0.64768854]\n",
      " [-0.46341769]\n",
      " [ 0.54256004]\n",
      " [ 0.61167629]\n",
      " [ 1.0035329 ]\n",
      " [ 0.8219025 ]\n",
      " [ 1.53803657]\n",
      " [ 0.73846658]\n",
      " [-0.21967189]\n",
      " [-0.8084936 ]\n",
      " [ 0.09176078]\n",
      " [-1.95967012]\n",
      " [ 0.51326743]\n",
      " [ 1.03099952]\n",
      " [-2.6197451 ]\n",
      " [ 0.49671415]\n",
      " [ 0.09707755]\n",
      " [-0.46572975]\n",
      " [ 0.91540212]\n",
      " [ 1.56464366]\n",
      " [ 1.46564877]\n",
      " [-0.60063869]\n",
      " [-0.03582604]\n",
      " [-0.60170661]\n",
      " [-1.19620662]\n",
      " [ 0.35711257]\n",
      " [ 0.37569802]\n",
      " [ 0.26105527]\n",
      " [-0.5297602 ]\n",
      " [-0.90802408]\n",
      " [ 0.19686124]\n",
      " [-0.29900735]\n",
      " [ 0.36163603]\n",
      " [ 0.82254491]\n",
      " [-0.29169375]\n",
      " [ 0.36139561]\n",
      " [-0.676922  ]\n",
      " [ 1.52302986]\n",
      " [-0.51827022]\n",
      " [-0.23415337]\n",
      " [-0.39210815]\n",
      " [-0.3011037 ]\n",
      " [-0.64511975]\n",
      " [ 0.32875111]\n",
      " [ 0.2088636 ]\n",
      " [-0.32766215]\n",
      " [ 0.00511346]\n",
      " [-0.23413696]\n",
      " [ 1.47789404]\n",
      " [-0.38508228]\n",
      " [ 0.34361829]\n",
      " [ 0.33126343]\n",
      " [-0.18565898]\n",
      " [-0.23458713]\n",
      " [-1.98756891]\n",
      " [ 0.32408397]\n",
      " [-0.2257763 ]\n",
      " [-1.10633497]\n",
      " [-0.70205309]\n",
      " [-1.46351495]\n",
      " [ 0.96864499]\n",
      " [-1.72491783]\n",
      " [-1.91328024]\n",
      " [-0.56228753]\n",
      " [ 0.76743473]\n",
      " [ 0.81252582]\n",
      " [-1.4123037 ]\n",
      " [-1.47852199]\n",
      " [-1.22084365]\n",
      " [-0.83921752]\n",
      " [ 1.57921282]\n",
      " [ 0.97554513]\n",
      " [ 0.24196227]\n",
      " [ 0.29612028]\n",
      " [-0.54438272]\n",
      " [-1.76304016]\n",
      " [ 0.11092259]\n",
      " [ 0.17136828]\n",
      " [-1.32818605]\n",
      " [ 1.05712223]\n",
      " [-0.11564828]\n",
      " [-0.46947439]\n",
      " [-0.01349722]\n",
      " [-1.01283112]\n",
      " [-0.1382643 ]\n",
      " [-1.15099358]\n",
      " [ 1.35624003]\n",
      " [ 0.0675282 ]\n",
      " [-0.50175704]\n",
      " [-0.46063877]\n",
      " [ 1.85227818]\n",
      " [-1.42474819]\n",
      " [-0.71984421]\n",
      " [-0.07201012]\n",
      " [-0.30921238]]\n"
     ]
    }
   ],
   "source": [
    "x, y = datasets.make_regression(n_samples=100, n_features=1, noise=20, random_state=42)\n",
    "y.shape\n",
    "\n",
    "print(x)\n"
   ]
  },
  {
   "cell_type": "code",
   "execution_count": 19,
   "metadata": {},
   "outputs": [],
   "source": [
    "x = torch.from_numpy(x.astype(np.float32))\n",
    "y = torch.from_numpy(y.astype(np.float32))"
   ]
  },
  {
   "cell_type": "code",
   "execution_count": 20,
   "metadata": {},
   "outputs": [],
   "source": [
    "y = y.view(y.shape[0], 1)"
   ]
  },
  {
   "cell_type": "code",
   "execution_count": 21,
   "metadata": {},
   "outputs": [
    {
     "data": {
      "text/plain": [
       "torch.Size([100, 1])"
      ]
     },
     "execution_count": 21,
     "metadata": {},
     "output_type": "execute_result"
    }
   ],
   "source": [
    "y.shape"
   ]
  },
  {
   "cell_type": "code",
   "execution_count": 22,
   "metadata": {},
   "outputs": [
    {
     "data": {
      "text/plain": [
       "tensor([[ 6.2687e+01],\n",
       "        [-2.3764e+01],\n",
       "        [-2.5687e+01],\n",
       "        [ 7.9365e+00],\n",
       "        [-1.5475e+01],\n",
       "        [ 3.6094e+01],\n",
       "        [-4.0794e+01],\n",
       "        [-1.0823e+01],\n",
       "        [ 2.1415e+01],\n",
       "        [ 2.2799e+01],\n",
       "        [ 3.7224e+01],\n",
       "        [ 8.9567e+01],\n",
       "        [ 4.1551e+01],\n",
       "        [ 1.5018e+01],\n",
       "        [-6.1876e+01],\n",
       "        [ 2.1404e+01],\n",
       "        [-8.9110e+01],\n",
       "        [ 1.8679e+01],\n",
       "        [ 1.4234e+01],\n",
       "        [-1.2670e+02],\n",
       "        [ 1.2823e+01],\n",
       "        [ 1.5695e+00],\n",
       "        [-3.9292e+01],\n",
       "        [ 1.8950e+01],\n",
       "        [ 8.4121e+01],\n",
       "        [ 6.7974e+01],\n",
       "        [ 3.0328e+00],\n",
       "        [ 6.9943e+00],\n",
       "        [-4.2729e+01],\n",
       "        [-7.4268e+01],\n",
       "        [ 2.5665e+01],\n",
       "        [ 4.3362e+01],\n",
       "        [ 6.3743e-01],\n",
       "        [-2.1273e+01],\n",
       "        [-4.9396e+01],\n",
       "        [-1.6240e+01],\n",
       "        [-2.7917e+01],\n",
       "        [ 7.1497e-02],\n",
       "        [ 6.8466e+01],\n",
       "        [ 1.5671e+01],\n",
       "        [ 3.0485e+01],\n",
       "        [-3.4745e+01],\n",
       "        [ 6.0252e+01],\n",
       "        [-1.9758e+01],\n",
       "        [-5.4750e+00],\n",
       "        [ 4.5444e+00],\n",
       "        [-1.5787e+01],\n",
       "        [-4.9537e+01],\n",
       "        [ 3.3266e+01],\n",
       "        [ 8.9011e+00],\n",
       "        [ 1.8640e+00],\n",
       "        [ 1.4416e+01],\n",
       "        [-5.0219e+01],\n",
       "        [ 1.1638e+02],\n",
       "        [ 3.4709e+01],\n",
       "        [ 3.5220e+01],\n",
       "        [ 2.6180e+01],\n",
       "        [ 9.1984e+00],\n",
       "        [-7.9423e+00],\n",
       "        [-8.7755e+01],\n",
       "        [ 4.0805e+01],\n",
       "        [-9.5718e+00],\n",
       "        [-4.2683e+01],\n",
       "        [-3.8354e+01],\n",
       "        [-6.7932e+01],\n",
       "        [ 5.5239e+01],\n",
       "        [-8.5184e+01],\n",
       "        [-8.8515e+01],\n",
       "        [-2.3392e+01],\n",
       "        [ 6.0113e+01],\n",
       "        [ 5.4903e+01],\n",
       "        [-6.7381e+01],\n",
       "        [-6.9480e+01],\n",
       "        [-3.3488e+01],\n",
       "        [-9.0419e+00],\n",
       "        [ 4.7057e+01],\n",
       "        [ 6.5062e+01],\n",
       "        [ 1.2147e+01],\n",
       "        [-6.1605e+00],\n",
       "        [-3.8230e+01],\n",
       "        [-6.3062e+01],\n",
       "        [ 2.0093e+01],\n",
       "        [-1.1141e+01],\n",
       "        [-4.2458e+01],\n",
       "        [ 5.5248e+01],\n",
       "        [ 7.5837e+00],\n",
       "        [-1.9967e+01],\n",
       "        [-1.0432e+01],\n",
       "        [-3.2722e+01],\n",
       "        [-1.1554e+01],\n",
       "        [-6.4080e+01],\n",
       "        [ 8.3113e+01],\n",
       "        [ 1.8165e+01],\n",
       "        [-2.1634e+01],\n",
       "        [-2.6362e+01],\n",
       "        [ 7.8854e+01],\n",
       "        [-8.2466e+01],\n",
       "        [-4.7757e+01],\n",
       "        [ 1.1684e+01],\n",
       "        [-3.0250e+01]])"
      ]
     },
     "execution_count": 22,
     "metadata": {},
     "output_type": "execute_result"
    }
   ],
   "source": [
    "y"
   ]
  },
  {
   "cell_type": "code",
   "execution_count": 32,
   "metadata": {},
   "outputs": [],
   "source": [
    "n_features = 1\n",
    "\n",
    "model = nn.Linear(n_features, n_features)\n",
    "loss = nn.MSELoss()\n",
    "optimizer = torch.optim.SGD(model.parameters(), lr=0.05)"
   ]
  },
  {
   "cell_type": "code",
   "execution_count": 33,
   "metadata": {},
   "outputs": [
    {
     "name": "stdout",
     "output_type": "stream",
     "text": [
      "epoch: 1, loss: 2130.689208984375\n",
      "epoch: 10, loss: 701.200927734375\n",
      "epoch: 19, loss: 398.04730224609375\n",
      "epoch: 28, loss: 331.5438232421875\n",
      "epoch: 37, loss: 316.6246032714844\n",
      "epoch: 46, loss: 313.2300109863281\n",
      "epoch: 55, loss: 312.45086669921875\n",
      "epoch: 64, loss: 312.2711486816406\n",
      "epoch: 73, loss: 312.22955322265625\n",
      "epoch: 82, loss: 312.21990966796875\n",
      "epoch: 91, loss: 312.2176818847656\n",
      "epoch: 100, loss: 312.2171630859375\n"
     ]
    }
   ],
   "source": [
    "for epoch in range(100):\n",
    "    y_pred = model(x)\n",
    "    los = loss(y, y_pred)\n",
    "\n",
    "    los.backward()\n",
    "\n",
    "    optimizer.step()\n",
    "\n",
    "    optimizer.zero_grad()\n",
    "\n",
    "    if(epoch % 9 == 0):\n",
    "        print(f'epoch: {epoch+1}, loss: {los.item()}')"
   ]
  },
  {
   "cell_type": "code",
   "execution_count": 34,
   "metadata": {},
   "outputs": [],
   "source": [
    "predicted = model(x).detach().numpy()"
   ]
  },
  {
   "cell_type": "code",
   "execution_count": 35,
   "metadata": {},
   "outputs": [
    {
     "data": {
      "text/plain": [
       "[<matplotlib.lines.Line2D at 0x1fc920deae0>]"
      ]
     },
     "execution_count": 35,
     "metadata": {},
     "output_type": "execute_result"
    },
    {
     "data": {
      "image/png": "[encoded data removed]",
      "text/plain": [
       "<Figure size 640x480 with 1 Axes>"
      ]
     },
     "metadata": {},
     "output_type": "display_data"
    }
   ],
   "source": [
    "plt.plot(x, y, 'ro')\n",
    "plt.plot(x, predicted, 'b')"
   ]
  },
  {
   "cell_type": "code",
   "execution_count": null,
   "metadata": {},
   "outputs": [],
   "source": []
  }
 ],
 "metadata": {
  "kernelspec": {
   "display_name": "Python 3",
   "language": "python",
   "name": "python3"
  },
  "language_info": {
   "codemirror_mode": {
    "name": "ipython",
    "version": 3
   },
   "file_extension": ".py",
   "mimetype": "text/x-python",
   "name": "python",
   "nbconvert_exporter": "python",
   "pygments_lexer": "ipython3",
   "version": "3.12.4"
  }
 },
 "nbformat": 4,
 "nbformat_minor": 2
}
