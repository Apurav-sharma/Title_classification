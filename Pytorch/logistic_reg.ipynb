{
 "cells": [
  {
   "cell_type": "code",
   "execution_count": 105,
   "metadata": {},
   "outputs": [],
   "source": [
    "import torch\n",
    "import torch.nn as nn\n",
    "from sklearn import datasets\n",
    "import numpy as np"
   ]
  },
  {
   "cell_type": "code",
   "execution_count": 106,
   "metadata": {},
   "outputs": [],
   "source": [
    "df = datasets.load_breast_cancer()"
   ]
  },
  {
   "cell_type": "code",
   "execution_count": 107,
   "metadata": {},
   "outputs": [
    {
     "name": "stdout",
     "output_type": "stream",
     "text": [
      "(569, 30) (569,)\n"
     ]
    },
    {
     "data": {
      "text/plain": [
       "array([[1.799e+01, 1.038e+01, 1.228e+02, ..., 2.654e-01, 4.601e-01,\n",
       "        1.189e-01],\n",
       "       [2.057e+01, 1.777e+01, 1.329e+02, ..., 1.860e-01, 2.750e-01,\n",
       "        8.902e-02],\n",
       "       [1.969e+01, 2.125e+01, 1.300e+02, ..., 2.430e-01, 3.613e-01,\n",
       "        8.758e-02],\n",
       "       ...,\n",
       "       [1.660e+01, 2.808e+01, 1.083e+02, ..., 1.418e-01, 2.218e-01,\n",
       "        7.820e-02],\n",
       "       [2.060e+01, 2.933e+01, 1.401e+02, ..., 2.650e-01, 4.087e-01,\n",
       "        1.240e-01],\n",
       "       [7.760e+00, 2.454e+01, 4.792e+01, ..., 0.000e+00, 2.871e-01,\n",
       "        7.039e-02]])"
      ]
     },
     "execution_count": 107,
     "metadata": {},
     "output_type": "execute_result"
    }
   ],
   "source": [
    "x = df.data\n",
    "y = df.target\n",
    "print(x.shape, y.shape)\n",
    "x"
   ]
  },
  {
   "cell_type": "code",
   "execution_count": 108,
   "metadata": {},
   "outputs": [],
   "source": [
    "from sklearn.model_selection import train_test_split\n",
    "\n",
    "X_train, X_test, y_train, y_test = train_test_split(x, y, test_size=0.4, random_state=42)"
   ]
  },
  {
   "cell_type": "code",
   "execution_count": 109,
   "metadata": {},
   "outputs": [
    {
     "name": "stdout",
     "output_type": "stream",
     "text": [
      "(341, 30) (341,)\n"
     ]
    }
   ],
   "source": [
    "print(X_train.shape, y_train.shape)"
   ]
  },
  {
   "cell_type": "code",
   "execution_count": 110,
   "metadata": {},
   "outputs": [],
   "source": [
    "from sklearn.preprocessing import StandardScaler\n",
    "\n",
    "sc = StandardScaler()\n",
    "\n",
    "X_train = sc.fit_transform(X_train)\n",
    "X_test = sc.transform(X_test)"
   ]
  },
  {
   "cell_type": "code",
   "execution_count": 111,
   "metadata": {},
   "outputs": [
    {
     "data": {
      "text/plain": [
       "array([[-0.93158266, -1.58538382, -0.96082569, ..., -1.29685162,\n",
       "        -1.15903886, -0.96557241],\n",
       "       [-0.55984676,  0.73956333, -0.59548627, ..., -0.80908172,\n",
       "         0.35905959, -0.08051317],\n",
       "       [-0.42113933, -0.58305279, -0.42049516, ..., -0.54353364,\n",
       "         0.3130566 ,  0.12032719],\n",
       "       ...,\n",
       "       [ 0.00607953, -0.55540228, -0.10567281, ..., -1.27526614,\n",
       "        -0.65935128, -1.2622942 ],\n",
       "       [-0.07991907,  0.08977632, -0.07253362, ...,  1.04431968,\n",
       "         0.48437806,  1.25104711],\n",
       "       [-0.5792658 ,  0.29715515, -0.63428338, ..., -0.63888248,\n",
       "        -0.28498218, -0.83224618]])"
      ]
     },
     "execution_count": 111,
     "metadata": {},
     "output_type": "execute_result"
    }
   ],
   "source": [
    "X_train"
   ]
  },
  {
   "cell_type": "code",
   "execution_count": 112,
   "metadata": {},
   "outputs": [
    {
     "data": {
      "text/plain": [
       "array([[-0.49881549, -0.14525303, -0.47788255, ..., -0.2166455 ,\n",
       "         0.22263695,  0.22982491],\n",
       "       [ 1.29605858,  0.47918768,  1.2401018 , ...,  0.985309  ,\n",
       "        -0.51182448, -0.99620908],\n",
       "       [ 0.33065491,  0.05751739,  0.35504282, ...,  0.55825798,\n",
       "        -0.05813988, -0.18490477],\n",
       "       ...,\n",
       "       [-1.33244711,  0.41006141, -1.32576096, ..., -0.78081871,\n",
       "         0.00689882,  0.49137126],\n",
       "       [ 2.07559431,  0.40545299,  2.19790535, ...,  1.06606046,\n",
       "        -0.06448512,  0.29109824],\n",
       "       [-0.30739925,  0.30176357, -0.357854  , ..., -1.14140506,\n",
       "        -0.29608635, -0.51963872]])"
      ]
     },
     "execution_count": 112,
     "metadata": {},
     "output_type": "execute_result"
    }
   ],
   "source": [
    "X_test"
   ]
  },
  {
   "cell_type": "code",
   "execution_count": 113,
   "metadata": {},
   "outputs": [],
   "source": [
    "X_train = torch.from_numpy(X_train.astype(np.float32))\n",
    "X_test = torch.from_numpy(X_test.astype(np.float32))\n",
    "y_test = torch.from_numpy(y_test.astype(np.float32))\n",
    "y_train = torch.from_numpy(y_train.astype(np.float32))\n",
    "\n",
    "y_train = y_train.view(y_train.shape[0], 1)\n",
    "y_test = y_test.view(y_test.shape[0], 1)"
   ]
  },
  {
   "cell_type": "code",
   "execution_count": 114,
   "metadata": {},
   "outputs": [
    {
     "name": "stdout",
     "output_type": "stream",
     "text": [
      "torch.Size([341, 1])\n"
     ]
    }
   ],
   "source": [
    "print(y_train.shape)"
   ]
  },
  {
   "cell_type": "code",
   "execution_count": 115,
   "metadata": {},
   "outputs": [],
   "source": [
    "class Logistic_reg(nn.Module):\n",
    "    def __init__(self, input_feat):\n",
    "        super(Logistic_reg, self).__init__()\n",
    "        self.l1 = nn.Linear(input_feat, 1)\n",
    "    \n",
    "    def forward(self, x):\n",
    "        y_pred = torch.sigmoid(self.l1(x))\n",
    "        return y_pred"
   ]
  },
  {
   "cell_type": "code",
   "execution_count": 116,
   "metadata": {},
   "outputs": [],
   "source": [
    "model = Logistic_reg(n_feat)"
   ]
  },
  {
   "cell_type": "code",
   "execution_count": 117,
   "metadata": {},
   "outputs": [],
   "source": [
    "loss = nn.BCELoss()\n",
    "optimizer = torch.optim.SGD(model.parameters(), lr=0.03)\n",
    "\n",
    "itr = 100"
   ]
  },
  {
   "cell_type": "code",
   "execution_count": 125,
   "metadata": {},
   "outputs": [
    {
     "name": "stdout",
     "output_type": "stream",
     "text": [
      "epoch: 10, loss: 0.0962638184428215\n",
      "epoch: 20, loss: 0.09593716263771057\n",
      "epoch: 30, loss: 0.09561701864004135\n",
      "epoch: 40, loss: 0.09530316293239594\n",
      "epoch: 50, loss: 0.09499535709619522\n",
      "epoch: 60, loss: 0.09469343721866608\n",
      "epoch: 70, loss: 0.09439720213413239\n",
      "epoch: 80, loss: 0.09410643577575684\n",
      "epoch: 90, loss: 0.09382101148366928\n",
      "epoch: 100, loss: 0.0935407280921936\n"
     ]
    }
   ],
   "source": [
    "for epoch in range(itr):\n",
    "\n",
    "    y_pred = model(X_train)\n",
    "\n",
    "    loss_val = loss(y_pred, y_train)\n",
    "\n",
    "    loss_val.backward()\n",
    "\n",
    "    optimizer.step()\n",
    "    optimizer.zero_grad()\n",
    "\n",
    "    if (epoch + 1) % 10 == 0:\n",
    "        print(f'epoch: {epoch+1}, loss: {loss_val.item()}')"
   ]
  },
  {
   "cell_type": "code",
   "execution_count": 126,
   "metadata": {},
   "outputs": [],
   "source": [
    "predicted = model(X_test)\n",
    "predicted = predicted.round()\n",
    "\n",
    "acc = predicted.eq(y_test).sum() / float(y_test.shape[0])"
   ]
  },
  {
   "cell_type": "code",
   "execution_count": 127,
   "metadata": {},
   "outputs": [
    {
     "name": "stdout",
     "output_type": "stream",
     "text": [
      "accuracy is 0.9868420958518982\n"
     ]
    }
   ],
   "source": [
    "print(f'accuracy is {acc}')"
   ]
  },
  {
   "cell_type": "code",
   "execution_count": null,
   "metadata": {},
   "outputs": [],
   "source": []
  }
 ],
 "metadata": {
  "kernelspec": {
   "display_name": "Python 3",
   "language": "python",
   "name": "python3"
  },
  "language_info": {
   "codemirror_mode": {
    "name": "ipython",
    "version": 3
   },
   "file_extension": ".py",
   "mimetype": "text/x-python",
   "name": "python",
   "nbconvert_exporter": "python",
   "pygments_lexer": "ipython3",
   "version": "3.12.4"
  }
 },
 "nbformat": 4,
 "nbformat_minor": 2
}
